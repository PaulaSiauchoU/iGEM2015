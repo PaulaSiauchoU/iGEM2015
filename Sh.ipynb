{
 "metadata": {
  "name": ""
 },
 "nbformat": 3,
 "nbformat_minor": 0,
 "worksheets": [
  {
   "cells": [
    {
     "cell_type": "code",
     "collapsed": false,
     "input": [
      "%pylab inline"
     ],
     "language": "python",
     "metadata": {},
     "outputs": [
      {
       "output_type": "stream",
       "stream": "stdout",
       "text": [
        "Populating the interactive namespace from numpy and matplotlib\n"
       ]
      }
     ],
     "prompt_number": 2
    },
    {
     "cell_type": "code",
     "collapsed": false,
     "input": [
      "#we define first the value of h,the corresponding range in x and the constants\n",
      "h=0.2\n",
      "a=20 \n",
      "bXR=300\n",
      "kXR=3000\n",
      "gXR=0.333\n",
      "dXRa=10 #d (actived XR)\n",
      "aX=20\n",
      "bX=300 \n",
      "bXR\n",
      "nX=2\n",
      "kx=3000\n",
      "gCY=0.2\n",
      "kXR=3000\n",
      "gXRa=0.333\n",
      "dXR=10\n",
      "\n",
      "n_points = int((400.0+h)/h)\n",
      "t = zeros(n_points)\n",
      "XR = zeros(n_points)\n",
      "CY = zeros(n_points)\n",
      "A = zeros(n_points)\n",
      "XRa = zeros(n_points)\n",
      "#A no cambia "
     ],
     "language": "python",
     "metadata": {},
     "outputs": [],
     "prompt_number": 6
    },
    {
     "cell_type": "code",
     "collapsed": false,
     "input": [
      "#we define all the functions \n",
      "\n",
      "def func_XR_prime(t,XR,CY,A,XRa):\n",
      "    return a -((bXR)/(1.0+(A/kXR)))-(gXR*XR)+(dXRa*XRa)\n",
      "\n",
      "def func_CY_prime(t,XR,CY,A,XRa):\n",
      "    return a+((bX*pow(XRa,nX))/(pow(kx,nX)+pow(XRa,nX)))-(gCY*CY)\n",
      "def func_XRa_prime(t,XR,CY,A,XRa):\n",
      "    return (bXR/(1.0+(A/kXR)))-(gXRa*XRa)-(dXRa*XRa)"
     ],
     "language": "python",
     "metadata": {},
     "outputs": [],
     "prompt_number": 14
    },
    {
     "cell_type": "code",
     "collapsed": false,
     "input": [
      "t[0] = 0.0\n",
      "XR[0] = 0.0\n",
      "CY[0] = 0.0\n",
      "A[0] = 0.0\n",
      "XRa[0] = 0.0\n",
      "for i in range(800):\n",
      "    A[i]=0.0\n",
      "for i in range(801,n_points):\n",
      "    A[i]=4000*sin(t[i]/100)+4000\n",
      "\n",
      "for i in range(1,n_points):\n",
      "  \n",
      "    k1_XR = func_XR_prime(t[i-1],XR[i-1],CY[i-1],A[i-1],XRa[i-1])\n",
      "    \n",
      "    k1_CY = func_CY_prime(t[i-1],XR[i-1],CY[i-1],A[i-1],XRa[i-1])\n",
      "    \n",
      "    k1_XRa = func_XRa_prime(t[i-1],XR[i-1],CY[i-1],A[i-1],XRa[i-1])\n",
      "    #first step\n",
      "    t1 = t[i-1] + (h/2.0)\n",
      "    XR1 = XR[i-1] + (h/2.0) * k1_XR\n",
      "    CY1 = CY[i-1] + (h/2.0) * k1_CY\n",
      "    XRa1 = XRa[i-1] + (h/2.0) * k1_XRa\n",
      "\n",
      "    k2_XR = func_XR_prime(t1,XR1,CY1,XRa,A[i-1])\n",
      "    k2_CY = func_CY_prime(t1,XR1,CY1,XRa,A[i-1])\n",
      "    k2_XRa = func_XRa_prime(t1,XR1,CY1,XRa1,A[i-1])\n",
      "\n",
      "\n",
      "    #second step\n",
      "    t2 = t[i-1] + (h/2.0)\n",
      "    XR2 = XR[i-1] + (h/2.0) * k2_XR\n",
      "    CY2 = CY[i-1] + (h/2.0) * k2_CY\n",
      "    XRa2 = XRa[i-1] + (h/2.0) * k2_XRa\n",
      "     \n",
      "    k3_XR = func_XR_prime(t2,XR2,CY2,XRa2,A[i-1])\n",
      "    k3_CY = func_CY_prime(t2,XR2,CY2,XRa2,A[i-1])\n",
      "    k3_XRa = func_XRa_prime(t2,XR2,CY2,XRa2,A[i-1])\n",
      "        \n",
      "    #third step\n",
      "    t3 = t[i-1] + h\n",
      "    XR3 = XR[i-1] + (h/2.0) * k3_XR\n",
      "    CY3 = CY[i-1] + (h/2.0) * k3_CY\n",
      "    XRa3 = XRa[i-1] + (h/2.0) * k3_XRa\n",
      "    \n",
      "    k4_XR = func_XR_prime(t3,XR3,CY3,XRa3,A[i-1])\n",
      "    k4_CY = func_CY_prime(t3,XR3,CY3,XRa3,A[i-1])\n",
      "    k4_XRa = func_XRa_prime(t3,XR3,CY3,XRa3,A[i-1])\n",
      "    \n",
      "    #fourth step\n",
      "    average_k_XR = (1.0/6.0)*(k1_XR + 2.0*k2_XR + 2.0*k3_XR + k4_XR)\n",
      "    average_k_CY = (1.0/6.0)*(k1_CY + 2.0*k2_CY + 2.0*k3_CY + k4_CY)\n",
      "    average_k_XRa = (1.0/6.0)*(k1_XRa + 2.0*k2_XRa + 2.0*k3_XRa + k4_XRa)\n",
      "\n",
      "    t[i] = t[i-1] + h\n",
      "    XR[i] = XR[i-1] + h * average_k_XR\n",
      "    CY[i] = CY[i-1] + h * average_k_CY\n",
      "    XRa[i] = XRa[i-1] + h * average_k_XRa"
     ],
     "language": "python",
     "metadata": {},
     "outputs": [
      {
       "ename": "ValueError",
       "evalue": "setting an array element with a sequence.",
       "output_type": "pyerr",
       "traceback": [
        "\u001b[0;31m---------------------------------------------------------------------------\u001b[0m\n\u001b[0;31mValueError\u001b[0m                                Traceback (most recent call last)",
        "\u001b[0;32m<ipython-input-16-2b4a21310ecc>\u001b[0m in \u001b[0;36m<module>\u001b[0;34m()\u001b[0m\n\u001b[1;32m     53\u001b[0m \u001b[0;34m\u001b[0m\u001b[0m\n\u001b[1;32m     54\u001b[0m     \u001b[0mt\u001b[0m\u001b[0;34m[\u001b[0m\u001b[0mi\u001b[0m\u001b[0;34m]\u001b[0m \u001b[0;34m=\u001b[0m \u001b[0mt\u001b[0m\u001b[0;34m[\u001b[0m\u001b[0mi\u001b[0m\u001b[0;34m-\u001b[0m\u001b[0;36m1\u001b[0m\u001b[0;34m]\u001b[0m \u001b[0;34m+\u001b[0m \u001b[0mh\u001b[0m\u001b[0;34m\u001b[0m\u001b[0m\n\u001b[0;32m---> 55\u001b[0;31m     \u001b[0mXR\u001b[0m\u001b[0;34m[\u001b[0m\u001b[0mi\u001b[0m\u001b[0;34m]\u001b[0m \u001b[0;34m=\u001b[0m \u001b[0mXR\u001b[0m\u001b[0;34m[\u001b[0m\u001b[0mi\u001b[0m\u001b[0;34m-\u001b[0m\u001b[0;36m1\u001b[0m\u001b[0;34m]\u001b[0m \u001b[0;34m+\u001b[0m \u001b[0mh\u001b[0m \u001b[0;34m*\u001b[0m \u001b[0maverage_k_XR\u001b[0m\u001b[0;34m\u001b[0m\u001b[0m\n\u001b[0m\u001b[1;32m     56\u001b[0m     \u001b[0mCY\u001b[0m\u001b[0;34m[\u001b[0m\u001b[0mi\u001b[0m\u001b[0;34m]\u001b[0m \u001b[0;34m=\u001b[0m \u001b[0mCY\u001b[0m\u001b[0;34m[\u001b[0m\u001b[0mi\u001b[0m\u001b[0;34m-\u001b[0m\u001b[0;36m1\u001b[0m\u001b[0;34m]\u001b[0m \u001b[0;34m+\u001b[0m \u001b[0mh\u001b[0m \u001b[0;34m*\u001b[0m \u001b[0maverage_k_CY\u001b[0m\u001b[0;34m\u001b[0m\u001b[0m\n\u001b[1;32m     57\u001b[0m     \u001b[0mXRa\u001b[0m\u001b[0;34m[\u001b[0m\u001b[0mi\u001b[0m\u001b[0;34m]\u001b[0m \u001b[0;34m=\u001b[0m \u001b[0mXRa\u001b[0m\u001b[0;34m[\u001b[0m\u001b[0mi\u001b[0m\u001b[0;34m-\u001b[0m\u001b[0;36m1\u001b[0m\u001b[0;34m]\u001b[0m \u001b[0;34m+\u001b[0m \u001b[0mh\u001b[0m \u001b[0;34m*\u001b[0m \u001b[0maverage_k_XRa\u001b[0m\u001b[0;34m\u001b[0m\u001b[0m\n",
        "\u001b[0;31mValueError\u001b[0m: setting an array element with a sequence."
       ]
      }
     ],
     "prompt_number": 16
    },
    {
     "cell_type": "code",
     "collapsed": false,
     "input": [
      "plot(t,XI,label='XR')\n",
      "plot(t,LI,label='Cy')\n",
      "plot(t,EA,label='XRa')\n",
      "plot(t,CL,label='A')\n",
      "plt.xlabel('t')\n",
      "plt.ylabel('proteinas')\n",
      "legend()\n",
      "figure(figsize(15,10))"
     ],
     "language": "python",
     "metadata": {},
     "outputs": []
    }
   ],
   "metadata": {}
  }
 ]
}