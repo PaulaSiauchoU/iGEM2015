{
 "cells": [
  {
   "cell_type": "code",
   "execution_count": 12,
   "metadata": {
    "collapsed": false
   },
   "outputs": [
    {
     "name": "stdout",
     "output_type": "stream",
     "text": [
      "Populating the interactive namespace from numpy and matplotlib\n"
     ]
    }
   ],
   "source": [
    "%pylab inline"
   ]
  },
  {
   "cell_type": "code",
   "execution_count": 270,
   "metadata": {
    "collapsed": false
   },
   "outputs": [],
   "source": [
    "#we define first the value of h,the corresponding range in x and the constants\n",
    "h=0.2\n",
    "a=20.0 \n",
    "bXR=300.0\n",
    "kXR=3000.0\n",
    "gXR=0.333\n",
    "dXRa=10.0 #d (actived XR)\n",
    "aX=20.0\n",
    "bX=300.0 \n",
    "bXR=20.0\n",
    "nX=2.0\n",
    "kx=3000.0\n",
    "gCY=0.2\n",
    "kXR=3000.0\n",
    "gXRa=0.333\n",
    "dXR=10.0\n",
    "\n",
    "n_points = int((411.0+h)/h)\n",
    "t = zeros(n_points)\n",
    "XR = zeros(n_points)\n",
    "CY = zeros(n_points)\n",
    "A = zeros(n_points)\n",
    "XRa = zeros(n_points)\n",
    "#A no cambia "
   ]
  },
  {
   "cell_type": "code",
   "execution_count": 271,
   "metadata": {
    "collapsed": false
   },
   "outputs": [],
   "source": [
    "#we define all the functions \n",
    "\n",
    "def func_XR_prime(t,XR,CY,XRa,A):\n",
    "    return a -((bXR)/(1.0+(A/kXR)))-(gXR*XR)+(dXRa*XRa)\n",
    "\n",
    "def func_CY_prime(t,XR,CY,XRa,A):\n",
    "    return a+((bX*pow(XRa,nX))/(pow(kx,nX)+pow(XRa,nX)))-(gCY*CY)\n",
    "\n",
    "def func_XRa_prime(t,XR,CY,XRa,A):\n",
    "    return (bXR/(1.0+(A/kXR)))-(gXRa*XRa)-(dXRa*XRa)"
   ]
  },
  {
   "cell_type": "code",
   "execution_count": 278,
   "metadata": {
    "collapsed": false
   },
   "outputs": [],
   "source": [
    "t = []\n",
    "XR = []\n",
    "CY = []\n",
    "A = []\n",
    "XRa = []\n",
    "\n",
    "for i in range(n_points):\n",
    "    t.append(i)\n",
    "\n",
    "for i in range(2056):\n",
    "\n",
    "    XR.append(0)\n",
    "    CY.append(0)\n",
    "    A.append(0)\n",
    "    XRa.append(0)\n",
    "    \n",
    "for i in range(1,n_points):\n",
    "    \n",
    "    A.append(4000*sin(t[i]/100)+4000)\n",
    "\n",
    "for i in range(1,n_points):\n",
    "  \n",
    "    k1_XR = func_XR_prime(t[i-1],XR[i-1],CY[i-1],XRa[i-1],A[i-1])\n",
    "    \n",
    "    k1_CY = func_CY_prime(t[i-1],XR[i-1],CY[i-1],XRa[i-1],A[i-1])\n",
    "    \n",
    "    k1_XRa = func_XRa_prime(t[i-1],XR[i-1],CY[i-1],XRa[i-1],A[i-1])\n",
    "\n",
    "    #first step\n",
    "    t1 = t[i-1] + (h/2.0)\n",
    "    XR1 = XR[i-1] + (h/2.0) * k1_XR\n",
    "    CY1 = CY[i-1] + (h/2.0) * k1_CY\n",
    "    XRa1 = XRa[i-1] + (h/2.0) * k1_XRa\n",
    "\n",
    "    k2_XR = func_XR_prime(t1,XR1,CY1,XRa1,A[i-1])\n",
    "    k2_CY = func_CY_prime(t1,XR1,CY1,XRa1,A[i-1])\n",
    "    k2_XRa = func_XRa_prime(t1,XR1,CY1,XRa1,A[i-1])\n",
    "\n",
    "\n",
    "    #second step\n",
    "    t2 = t[i-1] + (h/2.0)\n",
    "    XR2 = XR[i-1] + (h/2.0) * k2_XR\n",
    "    CY2 = CY[i-1] + (h/2.0) * k2_CY\n",
    "    XRa2 = XRa[i-1] + (h/2.0) * k2_XRa\n",
    "     \n",
    "    k3_XR = func_XR_prime(t2,XR2,CY2,XRa2,A[i-1])\n",
    "    k3_CY = func_CY_prime(t2,XR2,CY2,XRa2,A[i-1])\n",
    "    k3_XRa = func_XRa_prime(t2,XR2,CY2,XRa2,A[i-1])\n",
    "        \n",
    "    #third step\n",
    "    t3 = t[i-1] + h\n",
    "    XR3 = XR[i-1] + (h/2.0) * k3_XR\n",
    "    CY3 = CY[i-1] + (h/2.0) * k3_CY\n",
    "    XRa3 = XRa[i-1] + (h/2.0) * k3_XRa\n",
    "    \n",
    "    k4_XR = func_XR_prime(t3,XR3,CY3,XRa3,A[i-1])\n",
    "    k4_CY = func_CY_prime(t3,XR3,CY3,XRa3,A[i-1])\n",
    "    k4_XRa = func_XRa_prime(t3,XR3,CY3,XRa3,A[i-1])\n",
    "    \n",
    "    #fourth step\n",
    "    average_k_XR = (1.0/6.0)*(k1_XR + 2.0*k2_XR + 2.0*k3_XR + k4_XR)\n",
    "    average_k_CY = (1.0/6.0)*(k1_CY + 2.0*k2_CY + 2.0*k3_CY + k4_CY)\n",
    "    average_k_XRa = (1.0/6.0)*(k1_XRa + 2.0*k2_XRa + 2.0*k3_XRa + k4_XRa)\n",
    "\n",
    "    t.append(t[i-1] + h)\n",
    "    XR.append(XR[i-1] + h * average_k_XR)\n",
    "    CY.append(CY[i-1] + h * average_k_CY)\n",
    "    XRa.append(XRa[i-1] + h * average_k_XRa)"
   ]
  },
  {
   "cell_type": "code",
   "execution_count": 279,
   "metadata": {
    "collapsed": false
   },
   "outputs": [
    {
     "data": {
      "text/plain": [
       "(4111, 4111, 4111)"
      ]
     },
     "execution_count": 279,
     "metadata": {},
     "output_type": "execute_result"
    }
   ],
   "source": [
    "len(XR),len(t),len(A)"
   ]
  },
  {
   "cell_type": "code",
   "execution_count": 280,
   "metadata": {
    "collapsed": false
   },
   "outputs": [
    {
     "data": {
      "text/plain": [
       "<matplotlib.figure.Figure at 0x7f8feb588a90>"
      ]
     },
     "execution_count": 280,
     "metadata": {},
     "output_type": "execute_result"
    },
    {
     "data": {
      "image/png": "[encoded data removed]",
      "text/plain": [
       "<matplotlib.figure.Figure at 0x7f8feb69d0d0>"
      ]
     },
     "metadata": {},
     "output_type": "display_data"
    },
    {
     "data": {
      "text/plain": [
       "<matplotlib.figure.Figure at 0x7f8feb588a90>"
      ]
     },
     "metadata": {},
     "output_type": "display_data"
    }
   ],
   "source": [
    "plot(t,XR,label='XR')\n",
    "plot(t,CY,label='Cy')\n",
    "plot(t,XRa,label='XRa')\n",
    "plot(t,A,label='A')\n",
    "plt.xlabel('t')\n",
    "plt.ylabel('proteinas')\n",
    "legend()\n",
    "figure(figsize(15,10))"
   ]
  },
  {
   "cell_type": "code",
   "execution_count": null,
   "metadata": {
    "collapsed": true
   },
   "outputs": [],
   "source": []
  },
  {
   "cell_type": "code",
   "execution_count": null,
   "metadata": {
    "collapsed": true
   },
   "outputs": [],
   "source": []
  }
 ],
 "metadata": {
  "kernelspec": {
   "display_name": "Python 2",
   "language": "python",
   "name": "python2"
  },
  "language_info": {
   "codemirror_mode": {
    "name": "ipython",
    "version": 2
   },
   "file_extension": ".py",
   "mimetype": "text/x-python",
   "name": "python",
   "nbconvert_exporter": "python",
   "pygments_lexer": "ipython2",
   "version": "2.7.10"
  }
 },
 "nbformat": 4,
 "nbformat_minor": 0
}
